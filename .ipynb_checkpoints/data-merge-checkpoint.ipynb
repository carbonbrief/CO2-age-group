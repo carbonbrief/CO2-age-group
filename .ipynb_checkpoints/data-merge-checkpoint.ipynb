{
 "cells": [
  {
   "cell_type": "code",
   "execution_count": 2,
   "metadata": {},
   "outputs": [],
   "source": [
    "import pandas as pd\n",
    "import numpy as np"
   ]
  },
  {
   "cell_type": "code",
   "execution_count": 3,
   "metadata": {},
   "outputs": [
    {
     "name": "stdout",
     "output_type": "stream",
     "text": [
      "/Users/rosamund/Documents/GitHub/CO2-age-group/data\n"
     ]
    }
   ],
   "source": [
    "import os\n",
    "cwd = os.getcwd()\n",
    "print(cwd)"
   ]
  },
  {
   "cell_type": "markdown",
   "metadata": {},
   "source": [
    "## Create list of files will need to export"
   ]
  {
   "cell_type": "code",
   "execution_count": 32,
   "metadata": {
    "scrolled": true
   },
   "outputs": [
    {
     "name": "stdout",
     "output_type": "stream",
     "text": [
      "['Germany_2.6_national.csv', 'France_2.6_global.csv', 'Canada_2.6_national.csv', 'India_1.9_national.csv', 'Ethiopia_1.9_national.csv', 'Indonesia_1.9_national.csv', 'Ethiopia_2.6_global.csv', 'Philippines_1.9_global.csv', 'Australia_2.6_national.csv', 'Indonesia_1.9_global.csv', 'Mexico_1.9_global.csv', 'LATIN AMERICA AND THE CARIBBEAN_1.9_national.csv', 'United Kingdom_1.9_global.csv', 'Spain_2.6_global.csv', 'China_2.6_global.csv', 'Russian Federation_1.9_global.csv', 'Philippines_1.9_national.csv', 'United Kingdom_2.6_national.csv', 'Italy_2.6_national.csv', 'ASIA_2.6_global.csv', 'Egypt_1.9_global.csv', 'Egypt_1.9_national.csv', 'Brazil_1.9_national.csv', 'Australia_2.6_global.csv', 'Germany_2.6_global.csv', 'AFRICA_1.9_national.csv', 'OCEANIA_1.9_national.csv', 'ASIA_2.6_national.csv', 'LATIN AMERICA AND THE CARIBBEAN_1.9_global.csv', 'Nigeria_1.9_global.csv', 'France_1.9_national.csv', 'India_2.6_global.csv', 'Canada_2.6_global.csv', 'Bangladesh_1.9_national.csv', 'Argentina_2.6_national.csv', 'Viet Nam_1.9_global.csv', 'Japan_1.9_global.csv', 'EUROPE_2.6_global.csv', 'United States of America_2.6_global.csv', 'Japan_1.9_national.csv', 'Italy_2.6_global.csv', 'Russian Federation_2.6_national.csv', 'Nigeria_2.6_national.csv', 'Pakistan_2.6_global.csv', 'Brazil_1.9_global.csv', 'EUROPE_1.9_national.csv', 'Spain_1.9_national.csv', 'China_1.9_national.csv', 'Bangladesh_2.6_global.csv', 'United States of America_1.9_national.csv', 'AFRICA_2.6_global.csv', 'OCEANIA_1.9_global.csv', 'Argentina_2.6_global.csv', 'Mexico_2.6_national.csv', 'Pakistan_1.9_national.csv', 'Viet Nam_1.9_national.csv', 'Philippines_2.6_global.csv', 'Ethiopia_1.9_global.csv', 'Argentina_1.9_national.csv', 'Japan_2.6_national.csv', 'Mexico_2.6_global.csv', 'Russian Federation_1.9_national.csv', 'Indonesia_2.6_global.csv', 'Nigeria_1.9_national.csv', 'France_1.9_global.csv', 'France_2.6_national.csv', 'Bangladesh_2.6_national.csv', 'China_2.6_national.csv', 'Australia_1.9_global.csv', 'United States of America_2.6_national.csv', 'Egypt_2.6_global.csv', 'ASIA_1.9_global.csv', 'Mexico_1.9_national.csv', 'Pakistan_2.6_national.csv', 'Germany_1.9_global.csv', 'Viet Nam_2.6_national.csv', 'United Kingdom_2.6_global.csv', 'Spain_1.9_global.csv', 'China_1.9_global.csv', 'EUROPE_2.6_national.csv', 'Russian Federation_2.6_global.csv', 'Spain_2.6_national.csv', '.ipynb_checkpoints', 'Ethiopia_2.6_national.csv', 'Indonesia_2.6_national.csv', 'EUROPE_1.9_global.csv', 'Viet Nam_2.6_global.csv', 'Japan_2.6_global.csv', 'Australia_1.9_national.csv', 'LATIN AMERICA AND THE CARIBBEAN_2.6_national.csv', 'Italy_1.9_global.csv', 'United States of America_1.9_global.csv', 'Germany_1.9_national.csv', 'Nigeria_2.6_global.csv', 'LATIN AMERICA AND THE CARIBBEAN_2.6_global.csv', 'India_1.9_global.csv', 'Canada_1.9_national.csv', 'Canada_1.9_global.csv', 'India_2.6_national.csv', 'Bangladesh_1.9_global.csv', 'Italy_1.9_national.csv', 'United Kingdom_1.9_national.csv', 'Egypt_2.6_national.csv', 'Brazil_2.6_national.csv', 'AFRICA_1.9_global.csv', 'OCEANIA_2.6_global.csv', 'Argentina_1.9_global.csv', 'AFRICA_2.6_national.csv', 'OCEANIA_2.6_national.csv', 'ASIA_1.9_national.csv', 'Pakistan_1.9_global.csv', 'Brazil_2.6_global.csv', 'Philippines_2.6_national.csv']\n",
      "113\n"
     ]
    }
   ],
   "source": [
    "files = os.listdir(cwd + '/data/')\n",
    "\n",
    "print(files)\n",
    "print(len(files))"
   ]
  },
  {
   "cell_type": "code",
   "execution_count": 38,
   "metadata": {},
   "outputs": [
    {
     "name": "stdout",
     "output_type": "stream",
     "text": [
      "['France_2.6', 'Ethiopia_2.6', 'Philippines_1.9', 'Indonesia_1.9', 'Mexico_1.9', 'United Kingdom_1.9', 'Spain_2.6', 'China_2.6', 'Russian Federation_1.9', 'ASIA_2.6', 'Egypt_1.9', 'Australia_2.6', 'Germany_2.6', 'LATIN AMERICA AND THE CARIBBEAN_1.9', 'Nigeria_1.9', 'India_2.6', 'Canada_2.6', 'Viet Nam_1.9', 'Japan_1.9', 'EUROPE_2.6', 'United States of America_2.6', 'Italy_2.6', 'Pakistan_2.6', 'Brazil_1.9', 'Bangladesh_2.6', 'AFRICA_2.6', 'OCEANIA_1.9', 'Argentina_2.6', 'Philippines_2.6', 'Ethiopia_1.9', 'Mexico_2.6', 'Indonesia_2.6', 'France_1.9', 'Australia_1.9', 'Egypt_2.6', 'ASIA_1.9', 'Germany_1.9', 'United Kingdom_2.6', 'Spain_1.9', 'China_1.9', 'Russian Federation_2.6', 'EUROPE_1.9', 'Viet Nam_2.6', 'Japan_2.6', 'Italy_1.9', 'United States of America_1.9', 'Nigeria_2.6', 'LATIN AMERICA AND THE CARIBBEAN_2.6', 'India_1.9', 'Canada_1.9', 'Bangladesh_1.9', 'AFRICA_1.9', 'OCEANIA_2.6', 'Argentina_1.9', 'Pakistan_1.9', 'Brazil_2.6']\n",
      "56\n"
     ]
    }
   ],
   "source": [
    "charts = []\n",
    "\n",
    "for x in files:\n",
    "    if \"_global.csv\" in x:\n",
    "        y = x.replace(\"_global.csv\", \"\")\n",
    "        charts.append(y)\n",
    "        \n",
    "print(charts)\n",
    "print(len(charts))"
   ]
  },
  {
   "cell_type": "markdown",
   "metadata": {},
   "source": [
    "## Attempt to loop process"
   ]
  },
  {
   "cell_type": "code",
   "execution_count": 41,
   "metadata": {},
   "outputs": [],
   "source": [
    "for x in charts:\n",
    "    df1 = pd.read_csv((cwd + \"/data/\" + x + \"_global.csv\"))\n",
    "    df1_2 = df1.rename(index=str, columns={\"ages\": \"ages\", \"birth_year\": \"birth_year\", \"budget\": \"global\"})\n",
    "    df2 = pd.read_csv((cwd + \"/data/\" + x + \"_national.csv\"))\n",
    "    df2_2 = df2.drop([\"Unnamed: 0\"], axis=1)\n",
    "    df2_3 = df2_2.rename(index=str, columns={\"ages\": \"ages\", \"birth_year\": \"birth_year\", \"budget\": \"national\"})\n",
    "    df2_3['global'] = df1_2['global']\n",
    "    df2_3.to_csv('new-data/' + x + '.csv', index=False)\n",
    "    "
   ]
  },
  {
   "cell_type": "markdown",
   "metadata": {},
   "source": [
    "## Run merge on single example"
   ]
  },
  {
   "cell_type": "code",
   "execution_count": 15,
   "metadata": {},
   "outputs": [
    {
     "data": {
      "text/html": [
       "<div>\n",
       "<style scoped>\n",
       "    .dataframe tbody tr th:only-of-type {\n",
       "        vertical-align: middle;\n",
       "    }\n",
       "\n",
       "    .dataframe tbody tr th {\n",
       "        vertical-align: top;\n",
       "    }\n",
       "\n",
       "    .dataframe thead th {\n",
       "        text-align: right;\n",
       "    }\n",
       "</style>\n",
       "<table border=\"1\" class=\"dataframe\">\n",
       "  <thead>\n",
       "    <tr style=\"text-align: right;\">\n",
       "      <th></th>\n",
       "      <th>Unnamed: 0</th>\n",
       "      <th>ages</th>\n",
       "      <th>birth_year</th>\n",
       "      <th>budget</th>\n",
       "    </tr>\n",
       "  </thead>\n",
       "  <tbody>\n",
       "    <tr>\n",
       "      <th>0</th>\n",
       "      <td>0</td>\n",
       "      <td>0</td>\n",
       "      <td>2017</td>\n",
       "      <td>45.658404</td>\n",
       "    </tr>\n",
       "    <tr>\n",
       "      <th>1</th>\n",
       "      <td>1</td>\n",
       "      <td>1</td>\n",
       "      <td>2016</td>\n",
       "      <td>46.828467</td>\n",
       "    </tr>\n",
       "    <tr>\n",
       "      <th>2</th>\n",
       "      <td>2</td>\n",
       "      <td>2</td>\n",
       "      <td>2015</td>\n",
       "      <td>49.173350</td>\n",
       "    </tr>\n",
       "  </tbody>\n",
       "</table>\n",
       "</div>"
      ],
      "text/plain": [
       "   Unnamed: 0  ages  birth_year     budget\n",
       "0           0     0        2017  45.658404\n",
       "1           1     1        2016  46.828467\n",
       "2           2     2        2015  49.173350"
      ]
     },
     "execution_count": 15,
     "metadata": {},
     "output_type": "execute_result"
    }
   ],
   "source": [
    "df1 = pd.read_csv((cwd + \"/AFRICA_1.9_global.csv\"))\n",
    "\n",
    "df1.head(3)"
   ]
  },
  {
   "cell_type": "code",
   "execution_count": 17,
   "metadata": {},
   "outputs": [
    {
     "data": {
      "text/html": [
       "<div>\n",
       "<style scoped>\n",
       "    .dataframe tbody tr th:only-of-type {\n",
       "        vertical-align: middle;\n",
       "    }\n",
       "\n",
       "    .dataframe tbody tr th {\n",
       "        vertical-align: top;\n",
       "    }\n",
       "\n",
       "    .dataframe thead th {\n",
       "        text-align: right;\n",
       "    }\n",
       "</style>\n",
       "<table border=\"1\" class=\"dataframe\">\n",
       "  <thead>\n",
       "    <tr style=\"text-align: right;\">\n",
       "      <th></th>\n",
       "      <th>ages</th>\n",
       "      <th>birth_year</th>\n",
       "      <th>budget</th>\n",
       "    </tr>\n",
       "  </thead>\n",
       "  <tbody>\n",
       "    <tr>\n",
       "      <th>0</th>\n",
       "      <td>0</td>\n",
       "      <td>2017</td>\n",
       "      <td>45.658404</td>\n",
       "    </tr>\n",
       "    <tr>\n",
       "      <th>1</th>\n",
       "      <td>1</td>\n",
       "      <td>2016</td>\n",
       "      <td>46.828467</td>\n",
       "    </tr>\n",
       "    <tr>\n",
       "      <th>2</th>\n",
       "      <td>2</td>\n",
       "      <td>2015</td>\n",
       "      <td>49.173350</td>\n",
       "    </tr>\n",
       "  </tbody>\n",
       "</table>\n",
       "</div>"
      ],
      "text/plain": [
       "   ages  birth_year     budget\n",
       "0     0        2017  45.658404\n",
       "1     1        2016  46.828467\n",
       "2     2        2015  49.173350"
      ]
     },
     "execution_count": 17,
     "metadata": {},
     "output_type": "execute_result"
    }
   ],
   "source": [
    "df1_2 = df1.drop([\"Unnamed: 0\"], axis=1)\n",
    "\n",
    "df1_2.head(3)"
   ]
  },
  {
   "cell_type": "code",
   "execution_count": 19,
   "metadata": {},
   "outputs": [
    {
     "data": {
      "text/html": [
       "<div>\n",
       "<style scoped>\n",
       "    .dataframe tbody tr th:only-of-type {\n",
       "        vertical-align: middle;\n",
       "    }\n",
       "\n",
       "    .dataframe tbody tr th {\n",
       "        vertical-align: top;\n",
       "    }\n",
       "\n",
       "    .dataframe thead th {\n",
       "        text-align: right;\n",
       "    }\n",
       "</style>\n",
       "<table border=\"1\" class=\"dataframe\">\n",
       "  <thead>\n",
       "    <tr style=\"text-align: right;\">\n",
       "      <th></th>\n",
       "      <th>ages</th>\n",
       "      <th>birth_year</th>\n",
       "      <th>global</th>\n",
       "    </tr>\n",
       "  </thead>\n",
       "  <tbody>\n",
       "    <tr>\n",
       "      <th>0</th>\n",
       "      <td>0</td>\n",
       "      <td>2017</td>\n",
       "      <td>45.658404</td>\n",
       "    </tr>\n",
       "    <tr>\n",
       "      <th>1</th>\n",
       "      <td>1</td>\n",
       "      <td>2016</td>\n",
       "      <td>46.828467</td>\n",
       "    </tr>\n",
       "    <tr>\n",
       "      <th>2</th>\n",
       "      <td>2</td>\n",
       "      <td>2015</td>\n",
       "      <td>49.173350</td>\n",
       "    </tr>\n",
       "  </tbody>\n",
       "</table>\n",
       "</div>"
      ],
      "text/plain": [
       "   ages  birth_year     global\n",
       "0     0        2017  45.658404\n",
       "1     1        2016  46.828467\n",
       "2     2        2015  49.173350"
      ]
     },
     "execution_count": 19,
     "metadata": {},
     "output_type": "execute_result"
    }
   ],
   "source": [
    "df1_3 = df1_2.rename(index=str, columns={\"ages\": \"ages\", \"birth_year\": \"birth_year\", \"budget\": \"global\"})\n",
    "\n",
    "df1_3.head(3)"
   ]
  },
  {
   "cell_type": "code",
   "execution_count": 20,
   "metadata": {},
   "outputs": [
    {
     "data": {
      "text/html": [
       "<div>\n",
       "<style scoped>\n",
       "    .dataframe tbody tr th:only-of-type {\n",
       "        vertical-align: middle;\n",
       "    }\n",
       "\n",
       "    .dataframe tbody tr th {\n",
       "        vertical-align: top;\n",
       "    }\n",
       "\n",
       "    .dataframe thead th {\n",
       "        text-align: right;\n",
       "    }\n",
       "</style>\n",
       "<table border=\"1\" class=\"dataframe\">\n",
       "  <thead>\n",
       "    <tr style=\"text-align: right;\">\n",
       "      <th></th>\n",
       "      <th>Unnamed: 0</th>\n",
       "      <th>ages</th>\n",
       "      <th>birth_year</th>\n",
       "      <th>budget</th>\n",
       "    </tr>\n",
       "  </thead>\n",
       "  <tbody>\n",
       "    <tr>\n",
       "      <th>0</th>\n",
       "      <td>0</td>\n",
       "      <td>0</td>\n",
       "      <td>2017</td>\n",
       "      <td>13.128090</td>\n",
       "    </tr>\n",
       "    <tr>\n",
       "      <th>1</th>\n",
       "      <td>1</td>\n",
       "      <td>1</td>\n",
       "      <td>2016</td>\n",
       "      <td>14.298154</td>\n",
       "    </tr>\n",
       "    <tr>\n",
       "      <th>2</th>\n",
       "      <td>2</td>\n",
       "      <td>2</td>\n",
       "      <td>2015</td>\n",
       "      <td>15.478373</td>\n",
       "    </tr>\n",
       "  </tbody>\n",
       "</table>\n",
       "</div>"
      ],
      "text/plain": [
       "   Unnamed: 0  ages  birth_year     budget\n",
       "0           0     0        2017  13.128090\n",
       "1           1     1        2016  14.298154\n",
       "2           2     2        2015  15.478373"
      ]
     },
     "execution_count": 20,
     "metadata": {},
     "output_type": "execute_result"
    }
   ],
   "source": [
    "df2 = pd.read_csv((cwd + \"/AFRICA_1.9_national.csv\"))\n",
    "df2.head(3)"
   ]
  },
  {
   "cell_type": "code",
   "execution_count": 21,
   "metadata": {},
   "outputs": [
    {
     "data": {
      "text/html": [
       "<div>\n",
       "<style scoped>\n",
       "    .dataframe tbody tr th:only-of-type {\n",
       "        vertical-align: middle;\n",
       "    }\n",
       "\n",
       "    .dataframe tbody tr th {\n",
       "        vertical-align: top;\n",
       "    }\n",
       "\n",
       "    .dataframe thead th {\n",
       "        text-align: right;\n",
       "    }\n",
       "</style>\n",
       "<table border=\"1\" class=\"dataframe\">\n",
       "  <thead>\n",
       "    <tr style=\"text-align: right;\">\n",
       "      <th></th>\n",
       "      <th>ages</th>\n",
       "      <th>birth_year</th>\n",
       "      <th>budget</th>\n",
       "    </tr>\n",
       "  </thead>\n",
       "  <tbody>\n",
       "    <tr>\n",
       "      <th>0</th>\n",
       "      <td>0</td>\n",
       "      <td>2017</td>\n",
       "      <td>13.128090</td>\n",
       "    </tr>\n",
       "    <tr>\n",
       "      <th>1</th>\n",
       "      <td>1</td>\n",
       "      <td>2016</td>\n",
       "      <td>14.298154</td>\n",
       "    </tr>\n",
       "    <tr>\n",
       "      <th>2</th>\n",
       "      <td>2</td>\n",
       "      <td>2015</td>\n",
       "      <td>15.478373</td>\n",
       "    </tr>\n",
       "  </tbody>\n",
       "</table>\n",
       "</div>"
      ],
      "text/plain": [
       "   ages  birth_year     budget\n",
       "0     0        2017  13.128090\n",
       "1     1        2016  14.298154\n",
       "2     2        2015  15.478373"
      ]
     },
     "execution_count": 21,
     "metadata": {},
     "output_type": "execute_result"
    }
   ],
   "source": [
    "df2_2 = df2.drop([\"Unnamed: 0\"], axis=1)\n",
    "\n",
    "df2_2.head(3)"
   ]
  },
  {
   "cell_type": "code",
   "execution_count": 22,
   "metadata": {},
   "outputs": [
    {
     "data": {
      "text/html": [
       "<div>\n",
       "<style scoped>\n",
       "    .dataframe tbody tr th:only-of-type {\n",
       "        vertical-align: middle;\n",
       "    }\n",
       "\n",
       "    .dataframe tbody tr th {\n",
       "        vertical-align: top;\n",
       "    }\n",
       "\n",
       "    .dataframe thead th {\n",
       "        text-align: right;\n",
       "    }\n",
       "</style>\n",
       "<table border=\"1\" class=\"dataframe\">\n",
       "  <thead>\n",
       "    <tr style=\"text-align: right;\">\n",
       "      <th></th>\n",
       "      <th>ages</th>\n",
       "      <th>birth_year</th>\n",
       "      <th>national</th>\n",
       "    </tr>\n",
       "  </thead>\n",
       "  <tbody>\n",
       "    <tr>\n",
       "      <th>0</th>\n",
       "      <td>0</td>\n",
       "      <td>2017</td>\n",
       "      <td>13.128090</td>\n",
       "    </tr>\n",
       "    <tr>\n",
       "      <th>1</th>\n",
       "      <td>1</td>\n",
       "      <td>2016</td>\n",
       "      <td>14.298154</td>\n",
       "    </tr>\n",
       "    <tr>\n",
       "      <th>2</th>\n",
       "      <td>2</td>\n",
       "      <td>2015</td>\n",
       "      <td>15.478373</td>\n",
       "    </tr>\n",
       "  </tbody>\n",
       "</table>\n",
       "</div>"
      ],
      "text/plain": [
       "   ages  birth_year   national\n",
       "0     0        2017  13.128090\n",
       "1     1        2016  14.298154\n",
       "2     2        2015  15.478373"
      ]
     },
     "execution_count": 22,
     "metadata": {},
     "output_type": "execute_result"
    }
   ],
   "source": [
    "df2_3 = df2_2.rename(index=str, columns={\"ages\": \"ages\", \"birth_year\": \"birth_year\", \"budget\": \"national\"})\n",
    "\n",
    "df2_3.head(3)"
   ]
  },
  {
   "cell_type": "code",
   "execution_count": 23,
   "metadata": {},
   "outputs": [
    {
     "data": {
      "text/html": [
       "<div>\n",
       "<style scoped>\n",
       "    .dataframe tbody tr th:only-of-type {\n",
       "        vertical-align: middle;\n",
       "    }\n",
       "\n",
       "    .dataframe tbody tr th {\n",
       "        vertical-align: top;\n",
       "    }\n",
       "\n",
       "    .dataframe thead th {\n",
       "        text-align: right;\n",
       "    }\n",
       "</style>\n",
       "<table border=\"1\" class=\"dataframe\">\n",
       "  <thead>\n",
       "    <tr style=\"text-align: right;\">\n",
       "      <th></th>\n",
       "      <th>ages</th>\n",
       "      <th>birth_year</th>\n",
       "      <th>national</th>\n",
       "      <th>global</th>\n",
       "    </tr>\n",
       "  </thead>\n",
       "  <tbody>\n",
       "    <tr>\n",
       "      <th>0</th>\n",
       "      <td>0</td>\n",
       "      <td>2017</td>\n",
       "      <td>13.128090</td>\n",
       "      <td>45.658404</td>\n",
       "    </tr>\n",
       "    <tr>\n",
       "      <th>1</th>\n",
       "      <td>1</td>\n",
       "      <td>2016</td>\n",
       "      <td>14.298154</td>\n",
       "      <td>46.828467</td>\n",
       "    </tr>\n",
       "    <tr>\n",
       "      <th>2</th>\n",
       "      <td>2</td>\n",
       "      <td>2015</td>\n",
       "      <td>15.478373</td>\n",
       "      <td>49.173350</td>\n",
       "    </tr>\n",
       "  </tbody>\n",
       "</table>\n",
       "</div>"
      ],
      "text/plain": [
       "   ages  birth_year   national     global\n",
       "0     0        2017  13.128090  45.658404\n",
       "1     1        2016  14.298154  46.828467\n",
       "2     2        2015  15.478373  49.173350"
      ]
     },
     "execution_count": 23,
     "metadata": {},
     "output_type": "execute_result"
    }
   ],
   "source": [
    "df2_3['global'] = df1_3['global']\n",
    "\n",
    "df2_3.head(3)"
   ]
  },
  {
   "cell_type": "code",
   "execution_count": null,
   "metadata": {},
   "outputs": [],
   "source": []
  }
 ],
 "metadata": {
  "kernelspec": {
   "display_name": "Python 3",
   "language": "python",
   "name": "python3"
  },
  "language_info": {
   "codemirror_mode": {
    "name": "ipython",
    "version": 3
   },
   "file_extension": ".py",
   "mimetype": "text/x-python",
   "name": "python",
   "nbconvert_exporter": "python",
   "pygments_lexer": "ipython3",
   "version": "3.6.5"
  }
 },
 "nbformat": 4,
 "nbformat_minor": 2
}
